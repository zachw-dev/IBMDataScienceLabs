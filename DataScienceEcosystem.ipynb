{
 "cells": [
  {
   "cell_type": "markdown",
   "id": "36fff5ba-e88b-4ce0-920e-d6469054ba90",
   "metadata": {},
   "source": [
    "# Data Science Tools and Ecosystem "
   ]
  },
  {
   "cell_type": "markdown",
   "id": "a02beea5-3760-42b3-b6d9-927362d53942",
   "metadata": {},
   "source": [
    "In this notebook, Data Science Tools and Ecosystem are summarized"
   ]
  },
  {
   "cell_type": "markdown",
   "id": "decacd1a-f9f2-4f70-b49e-1c25a448fdd3",
   "metadata": {},
   "source": [
    "Some of the popular languages that Data Scientists use are:\n",
    "1. Python\n",
    "2. R\n",
    "3. SQL"
   ]
  },
  {
   "cell_type": "markdown",
   "id": "dbc1306b-e5b8-4e58-90a3-7aadf28ee2b9",
   "metadata": {},
   "source": [
    "Some of the commonly used libraries used by Data Scientists include:\n",
    "1. Pandas\n",
    "2. NumPy\n",
    "3. Seaborn\n",
    "4. Matplotlib\n",
    "5. Pytorch"
   ]
  },
  {
   "cell_type": "markdown",
   "id": "87763919-3d61-4991-920b-c3e36a7c3a08",
   "metadata": {},
   "source": [
    "| Data Science Tools |\n",
    "|:------------------ |\n",
    "| Jupyter |\n",
    "| RStudio |\n",
    "| Microsoft Visual Studio |\n"
   ]
  },
  {
   "cell_type": "markdown",
   "id": "4c0e539a-b8de-4dc5-bdb7-73a1dae3f133",
   "metadata": {
    "editable": true,
    "slideshow": {
     "slide_type": ""
    },
    "tags": []
   },
   "source": [
    "### Below are a few examples of evaluating arithmetic expressions in Python"
   ]
  },
  {
   "cell_type": "code",
   "execution_count": 5,
   "id": "ec736f98-ec43-464a-b84c-1999f6393423",
   "metadata": {},
   "outputs": [
    {
     "data": {
      "text/plain": [
       "17"
      ]
     },
     "execution_count": 5,
     "metadata": {},
     "output_type": "execute_result"
    }
   ],
   "source": [
    "# This is a simple arithmetic expression to multiply then add integers\n",
    "(3*4)+5"
   ]
  },
  {
   "cell_type": "code",
   "execution_count": 8,
   "id": "7aa16363-af4a-4af7-8b77-766af939b9e9",
   "metadata": {},
   "outputs": [
    {
     "data": {
      "text/plain": [
       "3.3333333333333335"
      ]
     },
     "execution_count": 8,
     "metadata": {},
     "output_type": "execute_result"
    }
   ],
   "source": [
    "# This will convert 200 minutes to hours by dividing 60\n",
    "200/60"
   ]
  },
  {
   "cell_type": "markdown",
   "id": "586c7d35-9d13-4cd1-bd04-d4fc89153cb0",
   "metadata": {},
   "source": [
    "**Objectives**\n",
    "- List popular languages for Data Science\n",
    "- List common libraries used by Data Scientists\n",
    "- Show development environment open source tools used in data science\n",
    "- Evaluate basic arithmetic expressions in Python"
   ]
  },
  {
   "cell_type": "markdown",
   "id": "9d103af1-6624-443d-b644-ae29dad833d5",
   "metadata": {},
   "source": [
    "## Author\n",
    "Zachary Wong"
   ]
  }
 ],
 "metadata": {
  "kernelspec": {
   "display_name": "Python 3 (ipykernel)",
   "language": "python",
   "name": "python3"
  },
  "language_info": {
   "codemirror_mode": {
    "name": "ipython",
    "version": 3
   },
   "file_extension": ".py",
   "mimetype": "text/x-python",
   "name": "python",
   "nbconvert_exporter": "python",
   "pygments_lexer": "ipython3",
   "version": "3.12.5"
  }
 },
 "nbformat": 4,
 "nbformat_minor": 5
}
